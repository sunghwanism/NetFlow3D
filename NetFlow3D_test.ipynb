{
 "cells": [
  {
   "cell_type": "markdown",
   "metadata": {},
   "source": [
    "# NetFlow3D Step-by-Step Testing Notebook"
   ]
  },
  {
   "cell_type": "markdown",
   "metadata": {},
   "source": [
    "This notebook walks through the steps of the NetFlow3D pipeline, using the example data provided in the `example` directory."
   ]
  },
  {
   "cell_type": "code",
   "execution_count": null,
   "metadata": {},
   "outputs": [],
   "source": [
    "import os\n",
    "import sys\n",
    "import pandas as pd\n",
    "import json\n",
    "import networkx as nx\n",
    "from collections import defaultdict\n",
    "\n",
    "# Add the project root to the Python path\n",
    "sys.path.append(os.path.abspath(os.path.join(os.getcwd(), os.pardir)))\n",
    "\n",
    "import NetFlow3D as nf3d\n",
    "import funcs"
   ]
  },
  {
   "cell_type": "markdown",
   "metadata": {},
   "source": [
    "## 1. Define File Paths"
   ]
  },
  {
   "cell_type": "code",
   "execution_count": null,
   "metadata": {},
   "outputs": [],
   "source": [
    "job_name = \"test\"\n",
    "output_path = os.path.join(os.getcwd(), \"example/output/\", job_name) + \"/\"\n",
    "if not os.path.exists(output_path):\n",
    "    os.makedirs(output_path)\n",
    "\n",
    "# Input files\n",
    "input_maf = os.path.abspath(os.path.join(os.getcwd(), \"example/input/mutations.maf\"))\n",
    "expr_input_file = os.path.abspath(os.path.join(os.getcwd(), \"example/input/expressed_genes.txt\"))\n",
    "\n",
    "# Metadata files\n",
    "id_mapping_file = os.path.abspath(os.path.join(os.getcwd(), \"metadata/HUMAN_9606_idmapping.dat.gz\"))\n",
    "expr_whitelist_file = os.path.abspath(os.path.join(os.getcwd(), \"metadata/expr_white_list.txt\"))\n",
    "background_mutability_file = os.path.abspath(os.path.join(os.getcwd(), \"metadata/background.txt\"))\n",
    "prolen_file = os.path.abspath(os.path.join(os.getcwd(), \"metadata/uniprot2prolen.json\"))\n",
    "PDB_intra_resource = os.path.abspath(os.path.join(os.getcwd(), \"graph/PDB_intra/\"))\n",
    "PDB_inter_resource = os.path.abspath(os.path.join(os.getcwd(), \"graph/PDB_inter/\"))\n",
    "AF2_intra_resource = os.path.abspath(os.path.join(os.getcwd(), \"graph/AF2_pLDDT0/\"))\n",
    "PIONEER_inter_resource = os.path.abspath(os.path.join(os.getcwd(), \"metadata/HomoSapiens_interfaces_PIONEER_veryhigh.txt\"))\n",
    "binary_interactome = os.path.abspath(os.path.join(os.getcwd(), \"metadata/HomoSapiens_binary_HINThq.txt\"))\n",
    "canonical_isoform_file = os.path.abspath(os.path.join(os.getcwd(), \"metadata/UP000005640_9606.fasta\"))"
   ]
  },
  {
   "cell_type": "markdown",
   "metadata": {},
   "source": [
    "## 2. Calculate Background Mutation Rates"
   ]
  },
  {
   "cell_type": "code",
   "execution_count": null,
   "metadata": {},
   "outputs": [],
   "source": [
    "mutrate_file = os.path.join(output_path, \"mutrate.txt\")\n",
    "nf3d.get_bmr_uniprot(background_mutability_file, id_mapping_file, mutrate_file)\n",
    "\n",
    "# Display the first few lines of the output file\n",
    "mutrate_df = pd.read_csv(mutrate_file, sep='\\t')\n",
    "mutrate_df.head()"
   ]
  },
  {
   "cell_type": "markdown",
   "metadata": {},
   "source": [
    "## 3. Process Expression Data"
   ]
  },
  {
   "cell_type": "code",
   "execution_count": null,
   "metadata": {},
   "outputs": [],
   "source": [
    "expr_uniprots_file = os.path.join(output_path, \"Expr_uniprots.txt\")\n",
    "nf3d.get_expr_uniprot(id_mapping_file, expr_whitelist_file, expr_input_file, expr_uniprots_file)\n",
    "\n",
    "# Display the first few lines of the output file\n",
    "expr_uniprots_df = pd.read_csv(expr_uniprots_file, sep='\\t', header=None)\n",
    "expr_uniprots_df.head()"
   ]
  },
  {
   "cell_type": "markdown",
   "metadata": {},
   "source": [
    "## 4. Preprocess Mutation Data"
   ]
  },
  {
   "cell_type": "code",
   "execution_count": null,
   "metadata": {},
   "outputs": [],
   "source": [
    "preprocessed_maf_file = os.path.join(output_path, \"Preprocessed.maf\")\n",
    "nf3d.mutation_preprocessing(input_maf, id_mapping_file, preprocessed_maf_file, expr_uniprots_file)\n",
    "\n",
    "# Display the first few lines of the output file\n",
    "preprocessed_maf_df = pd.read_csv(preprocessed_maf_file, sep='\\t')\n",
    "preprocessed_maf_df.head()"
   ]
  },
  {
   "cell_type": "markdown",
   "metadata": {},
   "source": [
    "## 5. Loss-of-Function (LoF) Analysis"
   ]
  },
  {
   "cell_type": "code",
   "execution_count": null,
   "metadata": {},
   "outputs": [],
   "source": [
    "lof_results_file = os.path.join(output_path, \"All_intra_LoF_pvalue.txt\")\n",
    "nf3d.lof_analysis(preprocessed_maf_file, mutrate_file, prolen_file, lof_results_file)\n",
    "\n",
    "# Display the first few lines of the output file\n",
    "lof_results_df = pd.read_csv(lof_results_file, sep='\\t')\n",
    "lof_results_df.head()"
   ]
  },
  {
   "cell_type": "markdown",
   "metadata": {},
   "source": [
    "## 6. In-frame Mutation Analysis"
   ]
  },
  {
   "cell_type": "code",
   "execution_count": null,
   "metadata": {},
   "outputs": [],
   "source": [
    "final_output_intra_res, final_output_intra_uniprot, final_output_intra_pdb, final_output_inter_pdb, final_output_intra_af2, final_output_inter_pioneer = nf3d.inframe_analysis(\n    preprocessed_maf_file, mutrate_file, prolen_file, \n    PDB_intra_resource, PDB_inter_resource, AF2_intra_resource, PIONEER_inter_resource, \n    binary_interactome, output_path, threads=1\n)\n",
    "\n",
    "# Display the first few lines of one of the output files\n",
    "inframe_results_df = pd.read_csv(final_output_intra_res, sep='\\t')\n",
    "inframe_results_df.head()"
   ]
  },
  {
   "cell_type": "markdown",
   "metadata": {},
   "source": [
    "## 7. Generate Result Table"
   ]
  },
  {
   "cell_type": "code",
   "execution_count": null,
   "metadata": {},
   "outputs": [],
   "source": [
    "signatures_file = os.path.join(os.getcwd(), \"example/output/\", f\"{job_name}_signatures.txt\")\n",
    "nf3d.generate_result_table(lof_results_file, final_output_intra_pdb, final_output_inter_pdb, final_output_intra_af2, final_output_inter_pioneer, canonical_isoform_file, signatures_file)\n",
    "\n",
    "# Display the first few lines of the output file\n",
    "signatures_df = pd.read_csv(signatures_file, sep='\\t')\n",
    "signatures_df.head()"
   ]
  },
  {
   "cell_type": "markdown",
   "metadata": {},
   "source": [
    "## 8. Network Propagation"
   ]
  },
  {
   "cell_type": "code",
   "execution_count": null,
   "metadata": {},
   "outputs": [],
   "source": [
    "subnetworks_file = os.path.join(os.getcwd(), \"example/output/\", f\"{job_name}_subnetworks.txt\")\n",
    "nf3d.network_propagation(binary_interactome, subnetworks_file, output_path, expr_uniprots_file, lof_results_file, final_output_intra_pdb, final_output_inter_pdb, final_output_intra_af2, final_output_inter_pioneer, threads=1)\n",
    "\n",
    "# Display the first few lines of the output file\n",
    "subnetworks_df = pd.read_csv(subnetworks_file, sep='\\t')\n",
    "subnetworks_df.head()"
   ]
  }
 ],
 "metadata": {
  "kernelspec": {
   "display_name": "Python 3",
   "language": "python",
   "name": "python3"
  },
  "language_info": {
   "codemirror_mode": {
    "name": "ipython",
    "version": 3
   },
   "file_extension": ".py",
   "mimetype": "text/x-python",
   "name": "python",
   "nbconvert_exporter": "python",
   "pygments_lexer": "ipython3",
   "version": "3.10.12"
  }
 },
 "nbformat": 4,
 "nbformat_minor": 5
}